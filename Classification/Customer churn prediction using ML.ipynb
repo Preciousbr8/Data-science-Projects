{
 "cells": [
  {
   "cell_type": "markdown",
   "metadata": {},
   "source": [
    "### Introduction"
   ]
  },
  {
   "cell_type": "markdown",
   "metadata": {},
   "source": [
    "##### What is Customer Churn?\n",
    "\n",
    "Customer churn is defined as when customers or subscribers discontinue doing business with a firm or service.\n",
    "\n",
    "Customers in the telecom industry can choose from a variety of service providers and actively switch from one to the next. The telecommunications business has an annual churn rate of 15-25 percent in this highly competitive market.\n",
    "\n",
    "Individualized customer retention is tough because most firms have a large number of customers and can't afford to devote much time to each of them. The costs would be too great, outweighing the additional revenue. However, if a corporation could forecast which customers are likely to leave ahead of time, it could focus customer retention efforts only on these \"high risk\" clients. The ultimate goal is to expand its coverage area and retrieve more customers loyalty. The core to succeed in this market lies in the customer itself.\n",
    "\n",
    "Customer churn is a critical metric because it is much less expensive to retain existing customers than it is to acquire new customers.\n",
    "\n",
    "To reduce customer churn, telecom companies need to predict which customers are at high risk of churn.\n",
    "\n",
    "To detect early signs of potential churn, one must first develop a holistic view of the customers and their interactions across numerous channels, including store/branch visits, product purchase histories, customer service calls, Web-based transactions, and social media interactions, to mention a few.\n",
    "\n",
    "As a result, by addressing churn, these businesses may not only preserve their market position, but also grow and thrive. More customers they have in their network, the lower the cost of initiation and the larger the profit. As a result, the company's key focus for success is reducing client attrition and implementing effective retention strategy."
   ]
  },
  {
   "cell_type": "code",
   "execution_count": null,
   "metadata": {},
   "outputs": [],
   "source": [
    "!pip install imbalanced-learn\n"
   ]
  },
  {
   "cell_type": "code",
   "execution_count": null,
   "metadata": {},
   "outputs": [],
   "source": [
    "!pip install xgboost\n"
   ]
  },
  {
   "cell_type": "markdown",
   "metadata": {},
   "source": [
    "#### Installing depencencies"
   ]
  },
  {
   "cell_type": "code",
   "execution_count": 7,
   "metadata": {},
   "outputs": [],
   "source": [
    "import pandas as pd\n",
    "import numpy as np\n",
    "import matplotlib.pyplot as plt\n",
    "import seaborn as sns\n",
    "from sklearn.preprocessing import LabelEncoder ## to convert categorical data into numerical\n",
    "from imblearn.over_sampling import SMOTE  # Class imbalance handling technique\n",
    "from sklearn.model_selection import train_test_split , cross_val_score\n",
    "from sklearn.tree import DecisionTreeClassifier\n",
    "from sklearn.ensemble import RandomForestClassifier\n",
    "from xgboost import XGBRFClassifier\n",
    "from sklearn.metrics import accuracy_score,confusion_matrix, classification_report\n",
    "import pickle\n",
    "\n"
   ]
  },
  {
   "cell_type": "markdown",
   "metadata": {},
   "source": [
    "Data loading & analysis"
   ]
  },
  {
   "cell_type": "code",
   "execution_count": null,
   "metadata": {},
   "outputs": [],
   "source": [
    "df=pd.read_csv(r'C:\\Users\\user\\Documents\\Project datasets\\WA_Fn-UseC_-Telco-Customer-Churn.csv')\n",
    "df"
   ]
  },
  {
   "cell_type": "code",
   "execution_count": null,
   "metadata": {},
   "outputs": [],
   "source": [
    "## Checking number fo columns & rows\n",
    "df.shape   "
   ]
  },
  {
   "cell_type": "code",
   "execution_count": null,
   "metadata": {},
   "outputs": [],
   "source": [
    "df.info()"
   ]
  },
  {
   "cell_type": "markdown",
   "metadata": {},
   "source": [
    " Dropping customerid column as this is not required for moddeling"
   ]
  },
  {
   "cell_type": "code",
   "execution_count": null,
   "metadata": {},
   "outputs": [],
   "source": [
    "df1=df.drop( columns=['customerID'])"
   ]
  },
  {
   "cell_type": "code",
   "execution_count": null,
   "metadata": {},
   "outputs": [],
   "source": [
    "df1.head(3)"
   ]
  },
  {
   "cell_type": "code",
   "execution_count": null,
   "metadata": {},
   "outputs": [],
   "source": [
    "## Printing unique values in each column\n",
    "numerical_features=['tenure','TotalCharges','MonthlyCharges']\n",
    "\n",
    "for col in df1.columns:\n",
    "    if col not in numerical_features:\n",
    "\n",
    "        print(col,df1[col].unique())\n",
    "        print(\"-\"*50)"
   ]
  },
  {
   "cell_type": "markdown",
   "metadata": {},
   "source": [
    "We expect MonthlyCharges to be numerical but its recorded as object, so we must convert it"
   ]
  },
  {
   "cell_type": "code",
   "execution_count": null,
   "metadata": {},
   "outputs": [],
   "source": [
    "print(df1.isnull().sum())"
   ]
  },
  {
   "cell_type": "code",
   "execution_count": null,
   "metadata": {},
   "outputs": [],
   "source": [
    "## Converting object to float\n",
    "df1['TotalCharges']=df1['TotalCharges'].astype(float)"
   ]
  },
  {
   "cell_type": "markdown",
   "metadata": {},
   "source": [
    "This suggets that there are missing values in the column, lets explore this"
   ]
  },
  {
   "cell_type": "code",
   "execution_count": null,
   "metadata": {},
   "outputs": [],
   "source": [
    "df1[df1['TotalCharges']==\" \"]"
   ]
  },
  {
   "cell_type": "code",
   "execution_count": null,
   "metadata": {},
   "outputs": [],
   "source": [
    "len(df1[df1['TotalCharges']==\" \"])"
   ]
  },
  {
   "cell_type": "markdown",
   "metadata": {},
   "source": [
    "There are 11 records where the total monthly charges are blank, this is from the gross adds(New customers) ---> tenure<1\n",
    "\n",
    "\n",
    "This is probably their first month of doing business with the telco company and thier full month has not been completed, so we are going ro replace these wth zero"
   ]
  },
  {
   "cell_type": "code",
   "execution_count": 25,
   "metadata": {},
   "outputs": [],
   "source": [
    "## Replacin blanks with 0\n",
    "df1['TotalCharges']=df1['TotalCharges'].replace({\" \":\"0.0\"})"
   ]
  },
  {
   "cell_type": "code",
   "execution_count": 26,
   "metadata": {},
   "outputs": [],
   "source": [
    "## Converting object to float\n",
    "df1['TotalCharges']=df1['TotalCharges'].astype(float)"
   ]
  },
  {
   "cell_type": "code",
   "execution_count": null,
   "metadata": {},
   "outputs": [],
   "source": [
    "df1.info()"
   ]
  },
  {
   "cell_type": "code",
   "execution_count": null,
   "metadata": {},
   "outputs": [],
   "source": [
    "df1.isnull().sum()"
   ]
  },
  {
   "cell_type": "code",
   "execution_count": null,
   "metadata": {},
   "outputs": [],
   "source": []
  },
  {
   "cell_type": "markdown",
   "metadata": {},
   "source": [
    "Checking the distribution of the target column"
   ]
  },
  {
   "cell_type": "code",
   "execution_count": null,
   "metadata": {},
   "outputs": [],
   "source": [
    "df1['Churn'].value_counts()"
   ]
  },
  {
   "cell_type": "markdown",
   "metadata": {},
   "source": [
    "Theres a clear imbalance in the dataset with the majority class being not churned\n",
    "\n",
    "\n",
    "**Insights**\n",
    "\n",
    "1. Customerid removed as it is not required for modelling\n",
    "2. No missing values in the dataset\n",
    "3. Missing values in the 'TotalCharges' column replaced with 0 and converted to float\n",
    "4. Class imbalamce detected"
   ]
  },
  {
   "cell_type": "markdown",
   "metadata": {},
   "source": [
    "####  Exploratory Data Analysus--->EDA"
   ]
  },
  {
   "cell_type": "code",
   "execution_count": null,
   "metadata": {},
   "outputs": [],
   "source": [
    "df1.columns"
   ]
  },
  {
   "cell_type": "code",
   "execution_count": null,
   "metadata": {},
   "outputs": [],
   "source": [
    "df1.head(2)"
   ]
  },
  {
   "cell_type": "markdown",
   "metadata": {},
   "source": [
    "Checking the descriptive stats of the data"
   ]
  },
  {
   "cell_type": "code",
   "execution_count": null,
   "metadata": {},
   "outputs": [],
   "source": [
    "## Remeber this only works on numerical features\n",
    "df1.describe().T"
   ]
  },
  {
   "cell_type": "markdown",
   "metadata": {},
   "source": [
    "25% of the data points in montly charges fall under $35 and 50% under $70 ....."
   ]
  },
  {
   "cell_type": "code",
   "execution_count": 54,
   "metadata": {},
   "outputs": [],
   "source": [
    "## We are going to analyse the numerical features firt\n",
    "\n",
    "def plot_hist(df,col):\n",
    "    plt.figure(figsize= (5,3))\n",
    "    sns.histplot(df[col],kde=True)\n",
    "    plt.title(f\" Distribution of {col}\")\n",
    "\n",
    "    # Calculate the mean and median for the columns\n",
    "    col_mean=df[col].mean()\n",
    "    col_media=df[col].median()\n",
    "\n",
    "    # Add vertical lines for mean and median\n",
    "    plt.axvline(col_mean,color='red',linestyle=\":\",label=\"Mean\")\n",
    "    plt.axvline(col_media,color='green',linestyle=\"-\",label=\"Median\")\n",
    "\n",
    "    plt.legend()\n",
    "\n",
    "    plt.show()\n",
    "\n"
   ]
  },
  {
   "cell_type": "code",
   "execution_count": null,
   "metadata": {},
   "outputs": [],
   "source": [
    "plot_hist(df1,\"tenure\")"
   ]
  },
  {
   "cell_type": "code",
   "execution_count": null,
   "metadata": {},
   "outputs": [],
   "source": [
    "plot_hist(df1,'MonthlyCharges')"
   ]
  },
  {
   "cell_type": "code",
   "execution_count": null,
   "metadata": {},
   "outputs": [],
   "source": [
    "plot_hist(df1,'TotalCharges')"
   ]
  },
  {
   "cell_type": "code",
   "execution_count": null,
   "metadata": {},
   "outputs": [],
   "source": [
    "## Create a bar plot for 'SeniorCitizen' column\n",
    "df1['SeniorCitizen'].value_counts().plot.bar(color='skyblue', figsize=(8, 6))\n",
    "\n",
    "# Add labels and title\n",
    "plt.title('Bar Plot of SeniorCitizen')\n",
    "plt.xlabel('SeniorCitizen')\n",
    "plt.ylabel('Count')\n",
    "\n",
    "plt.show()\n"
   ]
  },
  {
   "cell_type": "markdown",
   "metadata": {},
   "source": [
    "#### Checking for outliers "
   ]
  },
  {
   "attachments": {
    "image-2.png": {
     "image/png": "[encoded data removed]"
    },
    "image.png": {
     "image/png": "[encoded data removed]"
    }
   },
   "cell_type": "markdown",
   "metadata": {},
   "source": [
    "![image.png](attachment:image.png)                        ![image-2.png](attachment:image-2.png)\n",
    "\n",
    "\n",
    "\n",
    "\n",
    "**How to handle outlier:**\n",
    "\n",
    "1. : Simply remove outlier data points from the dataset. \n",
    "\n",
    "\n",
    "2. Winsorization: Replace extreme outlier values with the maximum or minimum value within a specified percentile (e.g., replace values above the 95th \n",
    "percentile with the 95th percentile value). \n",
    "\n",
    "\n",
    "3. Imputation: Replace outliers with a calculated value like the mean or median of the data. \n",
    "\n"
   ]
  },
  {
   "cell_type": "code",
   "execution_count": 66,
   "metadata": {},
   "outputs": [],
   "source": [
    "# For numerical features\n",
    "\n",
    "def plot_boxplot(df,col):\n",
    "\n",
    "    plt.figure(figsize= (5,3))\n",
    "    sns.boxplot(y=df[col])\n",
    "    plt.title(f\" Box plot of {col}\")\n",
    "    plt.ylabel(col)\n",
    "    \n",
    "    plt.show()"
   ]
  },
  {
   "cell_type": "code",
   "execution_count": null,
   "metadata": {},
   "outputs": [],
   "source": [
    "plot_boxplot(df1,'tenure')"
   ]
  },
  {
   "cell_type": "code",
   "execution_count": null,
   "metadata": {},
   "outputs": [],
   "source": [
    "plot_boxplot(df1,'TotalCharges')"
   ]
  },
  {
   "cell_type": "code",
   "execution_count": null,
   "metadata": {},
   "outputs": [],
   "source": [
    "plot_boxplot(df1,'MonthlyCharges')"
   ]
  },
  {
   "cell_type": "markdown",
   "metadata": {},
   "source": [
    "#### Correlation Heatmap for numerical features"
   ]
  },
  {
   "cell_type": "markdown",
   "metadata": {},
   "source": [
    "A correlation heatmap helps explain the strength and direction of relationships between multiple variables in a dataset by visually displaying their pairwise correlations using color coding,.\n",
    "\n",
    "allowing you to quickly identify which variables are strongly positively or negatively correlated and thus guiding feature selection or model building decisions based on these insights; essentially.\n",
    "\n",
    "it helps you see which variables are related to each other and how strongly, enabling you to focus on the most relevant features in your analysis.\n",
    "\n",
    "**  What you should do after analyzing a correlation heatmap: *\n",
    "\n",
    "\n",
    "Identify highly correlated variables:\n",
    "Look for bright or dark squares that indicate strong positive or negative correlations, respectively.\n",
    "\n",
    "\n",
    "Address multicollinearity:\n",
    "If multiple variables are highly correlated with each other, consider removing some of them from your model to avoid issues with multicollinearity, where one variable is essentially redundant with another. \n",
    "\n",
    "\n",
    "Feature selection:\n",
    "Prioritize variables that have strong correlations with your target variable for further analysis and model building. \n",
    "\n",
    "\n",
    "Investigate unexpected relationships:\n",
    "Explore further any surprising or counterintuitive correlations that emerge from the heatmap. \n",
    "Consider dimensionality reduction techniques:\n",
    "If you have a very large dataset with many highly correlated variables, consider techniques like Principal Component Analysis (PCA) to reduce dimensionality. \n",
    "\n",
    "\n"
   ]
  },
  {
   "cell_type": "code",
   "execution_count": null,
   "metadata": {},
   "outputs": [],
   "source": [
    "## Correlation matrix heatmap\n",
    "\n",
    "plt.figure(figsize=(8,4))\n",
    "sns.heatmap(df1[numerical_features].corr(),annot=True,cmap='coolwarm',fmt=\".2f\")\n",
    "plt.title(\" Correlation heatmap\")\n",
    "plt.show()\n"
   ]
  },
  {
   "cell_type": "markdown",
   "metadata": {},
   "source": [
    "#### Categorical feature Analysis\n",
    "\n",
    "We usually use count plots to how the categorical features are distributed"
   ]
  },
  {
   "cell_type": "code",
   "execution_count": null,
   "metadata": {},
   "outputs": [],
   "source": [
    "categorical_features=[col for col  in df1.columns if  col not in numerical_features ]\n",
    "\n",
    "## Alternative method\n",
    "cat_features=df1.select_dtypes(include=\"object\").columns.to_list()\n",
    "cat_features\n",
    "\n",
    "## To add seniro citizen\n",
    "cat_features=['SeniorCitizen']+cat_features\n",
    "cat_features"
   ]
  },
  {
   "cell_type": "code",
   "execution_count": null,
   "metadata": {},
   "outputs": [],
   "source": [
    "## This makes inclusing of senior citizen\n",
    "\n",
    "categorical_features\n"
   ]
  },
  {
   "cell_type": "code",
   "execution_count": null,
   "metadata": {},
   "outputs": [],
   "source": [
    "for col in categorical_features:\n",
    "    plt.figure(figsize=(8,4))\n",
    "    sns.countplot(x=df1[col])\n",
    "    plt.title(f\"Count Plot of {col}\")\n",
    "    plt.show()"
   ]
  },
  {
   "cell_type": "markdown",
   "metadata": {},
   "source": [
    "#### Data Pre-processing"
   ]
  },
  {
   "cell_type": "code",
   "execution_count": null,
   "metadata": {},
   "outputs": [],
   "source": [
    "# Label enncoding categorical Features\n",
    "\n",
    "df1.head(3)"
   ]
  },
  {
   "cell_type": "code",
   "execution_count": null,
   "metadata": {},
   "outputs": [],
   "source": [
    "## Label encoding of target column\n",
    "\n",
    "df1['Churn'].replace({\n",
    "            \"No\":0 ,\n",
    "            \"Yes\":1 \n",
    "            \n",
    "}, inplace=True)"
   ]
  },
  {
   "cell_type": "code",
   "execution_count": null,
   "metadata": {},
   "outputs": [],
   "source": [
    "df1.head(3)"
   ]
  },
  {
   "cell_type": "code",
   "execution_count": null,
   "metadata": {},
   "outputs": [],
   "source": [
    "## Label encoding of other categorical features (Object data types)\n",
    "\n",
    "categorical_features1=df1.select_dtypes(include=\"object\").columns.to_list()\n",
    "categorical_features1\n"
   ]
  },
  {
   "cell_type": "code",
   "execution_count": 89,
   "metadata": {},
   "outputs": [],
   "source": [
    "# Initialise a dictionary for the encoder\n",
    "encoders={}\n",
    "\n",
    "# Apply label encoding and save the encoders\n",
    "for col in categorical_features1:\n",
    "    label_encoder=LabelEncoder()\n",
    "    df1[col]=label_encoder.fit_transform(df1[col])\n",
    "    encoders[col]=label_encoder\n",
    "\n",
    "    # save the encoders to a pikle file\n",
    "    with open(\"encoders.pkl\",\"wb\") as f:\n",
    "        pickle.dump(encoders,f)"
   ]
  },
  {
   "cell_type": "code",
   "execution_count": null,
   "metadata": {},
   "outputs": [],
   "source": [
    "encoders"
   ]
  },
  {
   "cell_type": "code",
   "execution_count": null,
   "metadata": {},
   "outputs": [],
   "source": [
    "df1"
   ]
  },
  {
   "cell_type": "markdown",
   "metadata": {},
   "source": [
    "#### Handling class imbalance"
   ]
  },
  {
   "cell_type": "markdown",
   "metadata": {},
   "source": [
    "Via SMOTE way\n",
    "\n",
    "\n",
    "Training & Test data split"
   ]
  },
  {
   "cell_type": "code",
   "execution_count": null,
   "metadata": {},
   "outputs": [],
   "source": [
    "x=df1.drop(columns='Churn',axis=1)\n",
    "y=df1.Churn"
   ]
  },
  {
   "cell_type": "code",
   "execution_count": null,
   "metadata": {},
   "outputs": [],
   "source": [
    "## Split trining and test data\n",
    "x_train,x_test,y_train,y_test=train_test_split(x,y,test_size=0.2,stratify=y,random_state=42)\n"
   ]
  },
  {
   "cell_type": "markdown",
   "metadata": {},
   "source": [
    "Synthetic Minority Over-sampling Technique\n",
    "\n",
    "\n",
    "What is SMOTE? SMOTE stands for Synthetic Minority Over-sampling Technique. It is an oversampling technique used to balance the class distribution of a dataset by creating synthetic minority class samples.\n",
    "\n",
    "** This is only done on the training data**"
   ]
  },
  {
   "cell_type": "code",
   "execution_count": 97,
   "metadata": {},
   "outputs": [],
   "source": [
    "smote=SMOTE(random_state=42)"
   ]
  },
  {
   "cell_type": "code",
   "execution_count": 98,
   "metadata": {},
   "outputs": [],
   "source": [
    "x_train_smote,y_train_smote=smote.fit_resample(x_train,y_train)"
   ]
  },
  {
   "cell_type": "code",
   "execution_count": null,
   "metadata": {},
   "outputs": [],
   "source": [
    "y_train_smote.value_counts()"
   ]
  },
  {
   "cell_type": "markdown",
   "metadata": {},
   "source": [
    "#### Model Training"
   ]
  },
  {
   "attachments": {
    "image.png": {
     "image/png": "[encoded data removed]"
    }
   },
   "cell_type": "markdown",
   "metadata": {},
   "source": [
    "\n",
    "**Notes:**\n",
    "\n",
    "\n",
    "![image.png](attachment:image.png)\n",
    "\n",
    "\n",
    "Key Notes:\n",
    "\n",
    "\n",
    "Scaling: Models like SVM, KNN, and neural networks benefit from scaling, even if they don’t need normality.\n",
    "\n",
    "Transformation: For models expecting normality, consider log, square root, or Box-Cox transformations for skewed data.\n",
    "\n",
    "Outliers: Non-tree models are generally more sensitive to outliers.\n",
    "\n",
    "\n",
    "These features are not normally distributed so we need to scale or normalise  them for logistic regression, SVM etc but for tree base models we don't need to do thus becuase they are not sensitive to outliers"
   ]
  },
  {
   "cell_type": "code",
   "execution_count": 100,
   "metadata": {},
   "outputs": [],
   "source": [
    "## First train the models with default parameters and thne use hyper-parameter training\n",
    "\n",
    "# Dctionary of models\n",
    "\n",
    "models={\n",
    "    \"Decision Tree\": DecisionTreeClassifier(random_state=42),\n",
    "    \"Random Forest\":RandomForestClassifier(random_state=42),\n",
    "    \"XGBoost\":XGBRFClassifier(random_state=42)\n",
    "}\n",
    "\n"
   ]
  },
  {
   "cell_type": "markdown",
   "metadata": {},
   "source": [
    "#### Cross Validation\n",
    "\n",
    "Cross-validation is a statistical technique used in machine learning to evaluate a model's performance by repeatedly dividing the dataset into different subsets, training the model on some subsets, and testing it on the remaining subsets.\n",
    "\n",
    "which helps assess how well the model generalizes to unseen data and prevents overfitting, with its scores providing an estimate of how well the model will perform on new, unknown data points;\n",
    " \n",
    "essentially, it helps you choose the best model for your task by providing a more reliable measure of its predictive accuracy across different data samples. "
   ]
  },
  {
   "cell_type": "code",
   "execution_count": null,
   "metadata": {},
   "outputs": [],
   "source": [
    "# Cross Validation, Dictionary to store cross validation results\n",
    "\n",
    "cv_scores={}\n",
    "\n",
    "# Perfom 5 fold cross validation for all these models\n",
    "for model_name,model in models.items():\n",
    "    print(f\"Training of {model_name} with default hyperparameters\")\n",
    "    scores=cross_val_score(model,x_train_smote,y_train_smote,cv=5,scoring='accuracy')\n",
    "    cv_scores[model_name]=scores\n",
    "    print(f\"{model_name}  Cross validation accuracy: {np.mean(scores):.2f}\")\n",
    "    print(\"-\"*70)\n"
   ]
  },
  {
   "cell_type": "code",
   "execution_count": null,
   "metadata": {},
   "outputs": [],
   "source": [
    "cv_scores"
   ]
  },
  {
   "cell_type": "markdown",
   "metadata": {},
   "source": [
    "Random forest gives the highest accuracy over all the other models"
   ]
  },
  {
   "cell_type": "code",
   "execution_count": 106,
   "metadata": {},
   "outputs": [],
   "source": [
    "rcf=RandomForestClassifier(random_state=42)"
   ]
  },
  {
   "cell_type": "code",
   "execution_count": null,
   "metadata": {},
   "outputs": [],
   "source": [
    "rcf.fit(x_train_smote,y_train_smote)"
   ]
  },
  {
   "cell_type": "markdown",
   "metadata": {},
   "source": [
    "#### Model Evaluation"
   ]
  },
  {
   "cell_type": "code",
   "execution_count": null,
   "metadata": {},
   "outputs": [],
   "source": [
    "y_test_pred=rcf.predict(x_test)\n",
    "\n",
    "print(\"Accuracy score \\n:\",accuracy_score(y_test,y_test_pred))\n",
    "print(\"Confusing Matrix \\n:\",confusion_matrix(y_test,y_test_pred))\n",
    "print(\"Classification Report \\n:\",classification_report(y_test,y_test_pred))"
   ]
  },
  {
   "cell_type": "code",
   "execution_count": 109,
   "metadata": {},
   "outputs": [],
   "source": [
    "## Saved the trained model as a pickle file\n",
    "\n",
    "with open(\"customer_churn_model.plk\",\"wb\") as f:\n",
    "\n",
    "    pickle.dump(rcf,f)\n",
    "    \n",
    "\n",
    "    "
   ]
  },
  {
   "cell_type": "markdown",
   "metadata": {},
   "source": [
    "** Load the saved model and build a predictive system **\n",
    "\n"
   ]
  },
  {
   "cell_type": "code",
   "execution_count": null,
   "metadata": {},
   "outputs": [],
   "source": []
  }
 ],
 "metadata": {
  "kernelspec": {
   "display_name": "Python 3",
   "language": "python",
   "name": "python3"
  },
  "language_info": {
   "codemirror_mode": {
    "name": "ipython",
    "version": 3
   },
   "file_extension": ".py",
   "mimetype": "text/x-python",
   "name": "python",
   "nbconvert_exporter": "python",
   "pygments_lexer": "ipython3",
   "version": "3.12.2"
  }
 },
 "nbformat": 4,
 "nbformat_minor": 2
}
