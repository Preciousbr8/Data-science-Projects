{
 "cells": [
  {
   "cell_type": "code",
   "execution_count": null,
   "metadata": {},
   "outputs": [],
   "source": [
    "## Get credentials from security credentials section under user account on AWS --- We use sagemaker for machine Learnin cases\n",
    "\n",
    "!pip install boto3"
   ]
  },
  {
   "cell_type": "code",
   "execution_count": 3,
   "metadata": {},
   "outputs": [],
   "source": [
    "import boto3\n",
    "import pandas as pd"
   ]
  },
  {
   "cell_type": "code",
   "execution_count": 4,
   "metadata": {},
   "outputs": [],
   "source": [
    "config=pd.read_csv(r'C:\\Users\\user\\Documents\\Completed Projects for portfolio and Git hub\\AWS secret keys\\rootkey.csv')"
   ]
  },
  {
   "cell_type": "code",
   "execution_count": 5,
   "metadata": {},
   "outputs": [
    {
     "data": {
      "text/plain": [
       "Index(['Access key ID', 'Secret access key'], dtype='object')"
      ]
     },
     "execution_count": 5,
     "metadata": {},
     "output_type": "execute_result"
    }
   ],
   "source": [
    "config.columns"
   ]
  },
  {
   "cell_type": "code",
   "execution_count": 6,
   "metadata": {},
   "outputs": [],
   "source": [
    "## AWS credentials\n",
    "aws_secret_access_key=config['Secret access key'][0]\n",
    "aws_secret_access_key_id=config['Access key ID'][0]"
   ]
  },
  {
   "cell_type": "code",
   "execution_count": 13,
   "metadata": {},
   "outputs": [],
   "source": [
    "# s3 bucket details\n",
    "bucket_name='s3-mlusecase'\n",
    "key='diab.csv'\n"
   ]
  },
  {
   "cell_type": "code",
   "execution_count": 24,
   "metadata": {},
   "outputs": [],
   "source": [
    "## Path of the local file\n",
    "\n",
    "local_file_path=r\"C:\\Users\\user\\Documents\\Completed Projects for portfolio and Git hub\\data\\ml-latest-small\\tags.csv\""
   ]
  },
  {
   "cell_type": "code",
   "execution_count": 25,
   "metadata": {},
   "outputs": [],
   "source": [
    "## Create a s3 client using the credentials above\n",
    "\n",
    "s3_client=boto3.client('s3',\n",
    "                       aws_access_key_id=aws_secret_access_key_id,\n",
    "                       aws_secret_access_key=aws_secret_access_key\n",
    "                       )"
   ]
  },
  {
   "cell_type": "markdown",
   "metadata": {},
   "source": [
    "## Loading production files/files into Amazon S3 buckets"
   ]
  },
  {
   "cell_type": "code",
   "execution_count": 26,
   "metadata": {},
   "outputs": [
    {
     "name": "stdout",
     "output_type": "stream",
     "text": [
      "File uploaded successfully into s3-mlusecase bucket\n"
     ]
    }
   ],
   "source": [
    "## Upload the file into Amazon s3 bucket\n",
    "\n",
    "try:\n",
    "    s3_client.upload_file(local_file_path,\n",
    "                           bucket_name, \n",
    "                           key)\n",
    "    \n",
    "    print(f'File uploaded successfully into {bucket_name} bucket')\n",
    "except Exception as e:\n",
    "    print(f'Error uploading file: {e}')\n"
   ]
  },
  {
   "cell_type": "markdown",
   "metadata": {},
   "source": [
    "# Loading into a folder"
   ]
  },
  {
   "cell_type": "code",
   "execution_count": 7,
   "metadata": {},
   "outputs": [],
   "source": [
    "# s3 bucket details\n",
    "bucket_name='s3-mlusecase'\n",
    "key='data/diab.csv'"
   ]
  },
  {
   "cell_type": "code",
   "execution_count": 8,
   "metadata": {},
   "outputs": [],
   "source": [
    "## Create a s3 client using the credentials above\n",
    "\n",
    "s3_client=boto3.client('s3',\n",
    "                       aws_access_key_id=aws_secret_access_key_id,\n",
    "                       aws_secret_access_key=aws_secret_access_key\n",
    "                       )"
   ]
  },
  {
   "cell_type": "code",
   "execution_count": 9,
   "metadata": {},
   "outputs": [],
   "source": [
    "## Path of the local file\n",
    "\n",
    "local_file_path=r\"C:\\Users\\user\\Documents\\Completed Projects for portfolio and Git hub\\data\\ml-latest-small\\tags.csv\""
   ]
  },
  {
   "cell_type": "code",
   "execution_count": 10,
   "metadata": {},
   "outputs": [
    {
     "name": "stdout",
     "output_type": "stream",
     "text": [
      "File uploaded successfully into s3-mlusecase bucket in data folder\n"
     ]
    }
   ],
   "source": [
    "## Upload the file into Amazon s3 bucket\n",
    "\n",
    "try:\n",
    "    s3_client.upload_file(local_file_path,\n",
    "                           bucket_name, \n",
    "                           key)\n",
    "    \n",
    "    print(f'File uploaded successfully into {bucket_name} bucket in data folder')\n",
    "except Exception as e:\n",
    "    print(f'Error uploading file: {e}')"
   ]
  },
  {
   "cell_type": "markdown",
   "metadata": {},
   "source": [
    "## Downloading files from S3 buckets"
   ]
  },
  {
   "cell_type": "code",
   "execution_count": 27,
   "metadata": {},
   "outputs": [],
   "source": [
    "s3_key='diab.csv'\n",
    "local_file_name='local_diab.csv'\n",
    "\n",
    "\n",
    "resposne=s3_client.download_file(bucket_name, \n",
    "                                 s3_key,\n",
    "                                   local_file_name\n",
    "                                   )"
   ]
  }
 ],
 "metadata": {
  "kernelspec": {
   "display_name": "Python 3",
   "language": "python",
   "name": "python3"
  },
  "language_info": {
   "codemirror_mode": {
    "name": "ipython",
    "version": 3
   },
   "file_extension": ".py",
   "mimetype": "text/x-python",
   "name": "python",
   "nbconvert_exporter": "python",
   "pygments_lexer": "ipython3",
   "version": "3.12.2"
  }
 },
 "nbformat": 4,
 "nbformat_minor": 2
}
